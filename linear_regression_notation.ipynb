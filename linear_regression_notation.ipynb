{
 "cells": [
  {
   "cell_type": "markdown",
   "id": "f4f6ff04",
   "metadata": {},
   "source": [
    "# Linear regression notation exercise\n",
    "\n",
    "These exercises will test your understanding of vectors and vector notation, in\n",
    "the context of linear regression. Please refer to the textbook page [Linear\n",
    "Regression Notation](LINK_HERE) if you get stuck at any point. Learning the\n",
    "notation can be challenging, so please do not worry if you need to check the\n",
    "textbook page multiple times, this is completely normal!\n",
    "\n",
    "*Note*: for the auto-marking on this page to work correctly it is very important that you store you answers using the variable names that you are instructed to use..."
   ]
  },
  {
   "cell_type": "code",
   "execution_count": null,
   "id": "90bc745f",
   "metadata": {},
   "outputs": [],
   "source": [
    "# please run this cell\n",
    "import numpy as np\n",
    "import pandas as pd\n",
    "import matplotlib.pyplot as plt\n",
    "from jupyprint import jupyprint, arraytex\n",
    "\n",
    "# load some hints\n",
    "hint_paths = [\"hint_Q3.txt\", \"hint_Q7.txt\"] \n",
    "hints_dict = {}\n",
    "for hint_path in hint_paths:\n",
    "    with open(hint_path, \"r\") as file:\n",
    "        hints_dict[hint_path] = file.read()\n",
    "        \n",
    "# load some names\n",
    "name_paths = [\"names_1.txt\", \"names_2.txt\"] \n",
    "names_dict = {}\n",
    "for name_path in name_paths:\n",
    "    with open(name_path, \"r\") as file:\n",
    "        names_dict[name_path] = file.read()\n",
    "names_1 = [h.strip().strip(\"'\") for h in  names_dict['names_1.txt'].strip(\"[]\").split(\",\")]\n",
    "names_2 = [h.strip().strip(\"'\") for h in  names_dict['names_2.txt'].strip(\"[]\").split(\",\")]\n",
    "\n",
    "# load some variables for testing\n",
    "string_1 = '6%c&m!'.replace('%', 'n').replace('&', 'o').replace('!', 'e').replace('6', 'i')\n",
    "string_2 = '%re&ti!6'.replace('%', 'p').replace('&', 's').replace('!', 'g').replace('6', 'e')\n",
    "temp = pd.read_csv(\"Duncan_Occupational_Prestige.csv\")\n",
    "tester = temp[string_1]\n",
    "tester_2 = temp[string_2]\n",
    "tester_3 = tester[temp['type'] == '%1'.replace('1', 'c').replace('%', 'b')]\n",
    "tester_4 = tester_2[temp['type'] == '%1'.replace('1', 'c').replace('%', 'b')]\n",
    "import scipy.stats as sps\n",
    "tni, epo = sps.linregress(tester, tester_2).intercept, sps.linregress(tester, tester_2).slope\n",
    "tni_2, epo_2 = sps.linregress(tester_3, tester_4).intercept, sps.linregress(tester_3, tester_4).slope\n",
    "del sps\n",
    "\n",
    "# this imports the machinery for marking answers to questions\n",
    "from client.api.notebook import Notebook\n",
    "ok = Notebook('linear_regression_notation.ok')"
   ]
  },
  {
   "cell_type": "markdown",
   "id": "ac70cb16",
   "metadata": {},
   "source": [
    "## Question 1\n",
    "\n",
    "Here is a vector that contains the test scores of 8 students:\n",
    "\n",
    "$$\n",
    "\\vec{x} = \\begin{bmatrix}\n",
    "           14 \\\\\n",
    "           13 \\\\\n",
    "           17 \\\\\n",
    "           11 \\\\\n",
    "           14 \\\\\n",
    "           18 \\\\\n",
    "           17 \\\\\n",
    "           15 \\\\\n",
    "         \\end{bmatrix}\n",
    "$$\n",
    "\n",
    "Please recreate this vector in the code cell below, as a numpy array called `x`:"
   ]
  },
  {
   "cell_type": "code",
   "execution_count": null,
   "id": "2349e85a",
   "metadata": {},
   "outputs": [],
   "source": [
    "#- make your vector/array here\n",
    "x = ...\n",
    "# Show the result\n",
    "x"
   ]
  },
  {
   "cell_type": "code",
   "execution_count": null,
   "id": "aea402b3",
   "metadata": {},
   "outputs": [],
   "source": [
    "# run this cell to check your answer\n",
    "_ = ok.grade('q1')"
   ]
  },
  {
   "cell_type": "markdown",
   "id": "f477bbf2",
   "metadata": {},
   "source": [
    "## Question 2\n",
    "\n",
    "Please set the variable `my_Q2_answer` in the cell below to the number\n",
    "corresponding to the correct definition of \"vector\" (e.g. if you think the\n",
    "answer is statement 1, `set my_Q2_answer` to equal 1):\n",
    "\n",
    "`1` - a numpy array\n",
    "\n",
    "`2` - a sequence of values\n",
    "\n",
    "`3` - a python list\n",
    "\n",
    "`4` - a single number within a sequence of numbers\n",
    "\n",
    "`5` - it is another term for \"x-axis\""
   ]
  },
  {
   "cell_type": "code",
   "execution_count": null,
   "id": "9709d9e0",
   "metadata": {},
   "outputs": [],
   "source": [
    "#- set `my_Q2_answer` to your answer\n",
    "my_Q2_answer = ..."
   ]
  },
  {
   "cell_type": "code",
   "execution_count": null,
   "id": "6ecef583",
   "metadata": {},
   "outputs": [],
   "source": [
    "# run this cell to check your answer\n",
    "_ = ok.grade('q2')"
   ]
  },
  {
   "cell_type": "markdown",
   "id": "f05b444c",
   "metadata": {},
   "source": [
    "## Question 3\n",
    "\n",
    "The python variable `x` contains the test scores of 8 students.\n",
    "\n",
    "The maximum score on the test was 20. We might wish to express each student's score as a percentage of the total score.\n",
    "\n",
    "Using the variable `x` which you defined earlier (which contains the test\n",
    "scores), please convert the values in the `x` vector to be percentages of the\n",
    "maximum possible score, and store your answer in a variable called\n",
    "`x_as_percentage`:\n",
    "\n",
    "*Note*: you can uncomment the second line in the cell below, to show an\n",
    "additional hint about what you need to do here..."
   ]
  },
  {
   "cell_type": "code",
   "execution_count": null,
   "id": "e32d58fb",
   "metadata": {},
   "outputs": [],
   "source": [
    "# Uncomment the line below to show a hint for this question,\n",
    "# if you get stuck on how to calculate the percentages.\n",
    "# jupyprint(hints_dict[\"hint_Q3.txt\"])\n",
    "\n",
    "# put your answer below\n",
    "x_as_percentage = ...\n",
    "# show the values in your x_as_percentage variable\n",
    "x_as_percentage"
   ]
  },
  {
   "cell_type": "code",
   "execution_count": null,
   "id": "75c2480d",
   "metadata": {},
   "outputs": [],
   "source": [
    "# run this cell to check your answer\n",
    "_ = ok.grade('q3')"
   ]
  },
  {
   "cell_type": "markdown",
   "id": "947770e5",
   "metadata": {},
   "source": [
    "## Question 4\n",
    "\n",
    "Let's assume $\\vec{x}$ is our predictor vector in a linear regression model. We are assessing how well the scores on the first test - (i.e. the scores stored in the variable `x`) - predict the students' scores on a second test.\n",
    "\n",
    "The student's scores on the second test are shown below, in the vector $\\vec{y}$:\n",
    "\n",
    "$ \\vec{y} = \\begin{bmatrix}{} \n",
    "40 \\\\\n",
    "49 \\\\\n",
    "59 \\\\\n",
    "38 \\\\\n",
    "43 \\\\\n",
    "56 \\\\\n",
    "52 \\\\\n",
    "45 \\\\\n",
    "\\end{bmatrix}$\n",
    "\n",
    "Please recreate this vector as a numpy array called `y`:"
   ]
  },
  {
   "cell_type": "code",
   "execution_count": null,
   "id": "7ac22649",
   "metadata": {},
   "outputs": [],
   "source": [
    "#- your answer here\n",
    "y = ...\n",
    "# Show the result\n",
    "y"
   ]
  },
  {
   "cell_type": "code",
   "execution_count": null,
   "id": "860809ba",
   "metadata": {},
   "outputs": [],
   "source": [
    "# run this cell to check your answer\n",
    "_ = ok.grade('q4')"
   ]
  },
  {
   "cell_type": "markdown",
   "id": "37f25288",
   "metadata": {},
   "source": [
    "## Question 5\n",
    "\n",
    "We now have our `x` vector and our `y` vector. These vectors contain 8 students' scores on two different tests. The first test was a maths test and the second was a geography test.\n",
    "\n",
    "We'd like to see how well the scores in the `x` vector predict the scores in `y` vector. Does scoring highly on the maths test mean that a student is likely to also score highly on the geography test?\n",
    "\n",
    "Let's do some graphical inspection of the data first. Use the `plt.scatter`\n",
    "function to create a scatter plot with `x` (maths test score) on the x-axis and\n",
    "`y` (geography test score) on the y-axis."
   ]
  },
  {
   "cell_type": "code",
   "execution_count": null,
   "id": "af7decbd",
   "metadata": {},
   "outputs": [],
   "source": [
    "#- your scatterplot here\n",
    "..."
   ]
  },
  {
   "cell_type": "markdown",
   "id": "51cdd98a",
   "metadata": {},
   "source": [
    "From looking at the graph, please set the variable `my_Q5_answer` in the cell\n",
    "below to the number corresponding to statement you think is most true (e.g. if\n",
    "you think the answer is statement 1, set `my_Q5_answer` to equal 1):\n",
    "\n",
    "`1` - there is no linear trend, the points do NOT seem to be approximately\n",
    "summarized by a straight line\n",
    "\n",
    "`2` - a scatterplot is not an appropriate type of graph for this type of data\n",
    "\n",
    "`3` - the association between `x` and `y` looks like it would be better described by a curve, rather than a straight line\n",
    "\n",
    "`4` - there is a linear trend, the points DO seem to be approximately\n",
    "summarized by a straight line\n",
    "\n",
    "`5` - it looks like the higher the `x` score, the lower the `y` score is likely to be"
   ]
  },
  {
   "cell_type": "code",
   "execution_count": null,
   "id": "29f17c0d",
   "metadata": {},
   "outputs": [],
   "source": [
    "#- set `my_Q5_answer` to your answer\n",
    "my_Q5_answer = ..."
   ]
  },
  {
   "cell_type": "code",
   "execution_count": null,
   "id": "fa1b8613",
   "metadata": {},
   "outputs": [],
   "source": [
    "# run this cell to check your answer\n",
    "_ = ok.grade('q5')"
   ]
  },
  {
   "cell_type": "markdown",
   "id": "c1aab7a8",
   "metadata": {},
   "source": [
    "## Question 6\n",
    "\n",
    "Using any python method you like to perform the linear regression, perform a linear regression using `x` as your predictor variable and `y` as your outcome variable.\n",
    "\n",
    "Store the intercept from your regression in a variable called `c`.\n",
    "\n",
    "Store the slope from your regression in a variable called `b`."
   ]
  },
  {
   "cell_type": "code",
   "execution_count": null,
   "id": "01657df6",
   "metadata": {},
   "outputs": [],
   "source": [
    "#- Do the linear regression to find slope b and intercept\n",
    "#- c in whatever way you like.\n",
    "...\n",
    "...\n",
    "#- store your intercept value here\n",
    "c = ...\n",
    "#- store your slope value here\n",
    "b = ...\n",
    "# show the values of the intercept and slope\n",
    "jupyprint(f\"Intercept = {c}\")\n",
    "jupyprint(f\"Slope = {b}\")"
   ]
  },
  {
   "cell_type": "code",
   "execution_count": null,
   "id": "1749dc80",
   "metadata": {},
   "outputs": [],
   "source": [
    "# run this cell to check your answer\n",
    "_ = ok.grade('q6')"
   ]
  },
  {
   "cell_type": "markdown",
   "id": "e787e021",
   "metadata": {},
   "source": [
    "## Question 6b\n",
    "\n",
    "Please set the variable `my_Q6B_answer` in the cell below to the number\n",
    "corresponding to statement you think is most true <b> for the regression model\n",
    "we have just fit </b> (e.g. if you think the answer is statement 1, set\n",
    "`my_Q6B_answer` to equal 1):\n",
    "\n",
    "`1` - the slope tells us expected change in `x` (maths test) score if we compared two observational units which have the same `y` (geography test) score\n",
    "\n",
    "`2` - the slope is a constant value, added to all of the `x` (maths test) scores\n",
    "\n",
    "`3` - the slope tells us expected change in `y` (geography test) scores if we compared two observational units which have the same `x` (maths test) score. In this case, if they differed by 1 point in `x` score, they are likely to differ by over 2 points in `y` score\n",
    "\n",
    "`4` - the slope tells us expected change in `y` (geography test) scores if we compared two observational units which have the same `x` (maths test) score.. In this case, if they differed by 1 point in `x` score, they are likely to differ by over 7 points in `y` score\n",
    "\n",
    "`5` - the slope tells us that the association between `x` and `y` is random"
   ]
  },
  {
   "cell_type": "code",
   "execution_count": null,
   "id": "f36a075a",
   "metadata": {},
   "outputs": [],
   "source": [
    "#- set `my_Q6B_answer` to your answer\n",
    "my_Q6B_answer = ..."
   ]
  },
  {
   "cell_type": "code",
   "execution_count": null,
   "id": "170eb6bc",
   "metadata": {},
   "outputs": [],
   "source": [
    "# run this cell to check your answer\n",
    "_ = ok.grade('q6b')"
   ]
  },
  {
   "cell_type": "markdown",
   "id": "0ca9a978",
   "metadata": {},
   "source": [
    "## Question 7\n",
    "\n",
    "Now we have the slope ($b$) and the intercept ($c$) from our linear regression, please generate the vector of fitted values, using $\\vec{x}$, $b$ and $c$.\n",
    "\n",
    "Store your answer in a variable called `y_hat`:\n",
    "\n",
    "*Note*: you can uncomment the second line of code in the cell below to get a hint to help you here."
   ]
  },
  {
   "cell_type": "code",
   "execution_count": null,
   "id": "ac87bd88",
   "metadata": {},
   "outputs": [],
   "source": [
    "# uncomment the line below to show a hint for this question\n",
    "# jupyprint(hints_dict[\"hint_Q7.txt\"])\n",
    "\n",
    "# your answer here\n",
    "y_hat = ...\n",
    "# show the values in your y_hat vector\n",
    "y_hat"
   ]
  },
  {
   "cell_type": "code",
   "execution_count": null,
   "id": "524810bd",
   "metadata": {},
   "outputs": [],
   "source": [
    "# run this cell to check your answer\n",
    "_ = ok.grade('q7')"
   ]
  },
  {
   "cell_type": "markdown",
   "id": "7c0a51c6",
   "metadata": {},
   "source": [
    "## Question 8\n",
    "\n",
    "Using the `y_hat` vector which you just calculated, please calculate the error vector in the cell below. Store your answer\n",
    "as a variable called `errors`."
   ]
  },
  {
   "cell_type": "code",
   "execution_count": null,
   "id": "38f42403",
   "metadata": {},
   "outputs": [],
   "source": [
    "#- your answer here\n",
    "errors = ...\n",
    "# show the error vector\n",
    "errors"
   ]
  },
  {
   "cell_type": "code",
   "execution_count": null,
   "id": "b502a544",
   "metadata": {},
   "outputs": [],
   "source": [
    "# run this cell to check your answer\n",
    "_ = ok.grade('q8')"
   ]
  },
  {
   "cell_type": "markdown",
   "id": "62bb4c3e",
   "metadata": {},
   "source": [
    "## Question 9\n",
    "\n",
    "Please set the variable `my_Q9_answer` in the cell below to the number\n",
    "corresponding to statement you think is most true (e.g. if you think the answer\n",
    "is statement 1, set `my_Q9_answer` to equal 1):\n",
    "\n",
    "`1` - the `errors` vector contains the fitted values, plus the errors\n",
    "\n",
    "`2` - the `errors` vector contains the intercept, plus the `y` values\n",
    "\n",
    "`3` - the `errors` vector contains more values than the `y` vector and the `x` vector\n",
    "\n",
    "`4` - the `errors` vector contains less values than the `y` vector and the `x` vector\n",
    "\n",
    "`5` - the `errors` vector contains the distance between each `y` value and its corresponding fitted (`y_hat`) value"
   ]
  },
  {
   "cell_type": "code",
   "execution_count": null,
   "id": "c0dfecd4",
   "metadata": {},
   "outputs": [],
   "source": [
    "#- set `my_Q9_answer` to your answer\n",
    "my_Q9_answer = ..."
   ]
  },
  {
   "cell_type": "code",
   "execution_count": null,
   "id": "9219c424",
   "metadata": {},
   "outputs": [],
   "source": [
    "# run this cell to check your answer\n",
    "_ = ok.grade('q9')"
   ]
  },
  {
   "cell_type": "markdown",
   "id": "a80edc12",
   "metadata": {},
   "source": [
    "## Question 10\n",
    "\n",
    "Here is the general mathematical form of a linear regression model with 8 observations (like the model we have fitted during this exercise):\n",
    "\n",
    "$\\begin{bmatrix}{} \\text{$y_{1}$} \\\\ \\text{$y_{2}$} \\\\ \\text{$y_{3}$} \\\\ \\text{$y_{4}$} \\\\ \\text{$y_{5}$} \\\\ \\text{$y_{6}$} \\\\ \\text{$y_{7}$} \\\\ \\text{$y_{8}$} \\end{bmatrix} = b * \\begin{bmatrix}{} \\text{$x_{1}$} \\\\ \\text{$x_{2}$} \\\\ \\text{$x_{3}$} \\\\ \\text{$x_{4}$} \\\\ \\text{$x_{5}$} \\\\ \\text{$x_{6}$} \\\\ \\text{$x_{7}$} \\\\ \\text{$x_{8}$}  \\end{bmatrix} + c +  \\begin{bmatrix}{} \\text{$\\varepsilon_{1}$} \\\\ \\text{$\\varepsilon_{2}$} \\\\ \\text{$\\varepsilon_{3}$} \\\\ \\text{$\\varepsilon_{4}$} \\\\ \\text{$\\varepsilon_{5}$} \\\\ \\text{$\\varepsilon_{6}$} \\\\ \\text{$\\varepsilon_{7}$} \\\\ \\text{$\\varepsilon_{8}$}\\end{bmatrix} $\n",
    "\n",
    "Using this formula, write a python function in the cell below called `recreate_y_values()` which takes `x`, `b`, `c`, and `errors` as its input arguments, and returns the `y` values as its output.\n",
    "\n",
    "<b> DO NOT USE THE VARIABLE `y` AT ANY POINT IN THE FUNCTION.</b> It is possible to calculate the original $\\vec{y}$ values from `x`, `b`, `c`, and `errors`.\n",
    "\n",
    "*Note*: this is tricky, but straightforward once you realise what you have to do. Please check the textbook page if you get stuck."
   ]
  },
  {
   "cell_type": "code",
   "execution_count": null,
   "id": "98e033bf",
   "metadata": {},
   "outputs": [],
   "source": [
    "# create your function here\n",
    "def recreate_y_values(x, b, c, errors):\n",
    "    ...\n",
    "    return ...\n",
    "# test out your function here\n",
    "recreate_y_values(x, b, c, errors)"
   ]
  },
  {
   "cell_type": "code",
   "execution_count": null,
   "id": "084593c2",
   "metadata": {},
   "outputs": [],
   "source": [
    "# run this cell to check your answer\n",
    "_ = ok.grade('q10')"
   ]
  },
  {
   "cell_type": "markdown",
   "id": "9a13e7e6",
   "metadata": {},
   "source": [
    "## Question 11\n",
    "\n",
    "We'll now return to the Duncan Occupational Prestige dataset which we saw on the textbook page.\n",
    "\n",
    "Run the cell below to import the data. For a reminder, here is the description of the dataset/variables:\n",
    "\n",
    "Duncan (1961) combined information from the 1950 U.S. Census with data collected by the\n",
    "National Opinion Research Centre (NORC). The Census data contained information\n",
    "about different occupations, such as the percentage of people working in that occupation\n",
    "who earned over a certain amount per year. The NORC data was from a survey which asked\n",
    "participants to rate how prestigious they considered each occupation.\n",
    "\n",
    "Here are descriptions of the variables in the dataset, which covers 45 occupations (adapted from [here](https://rdrr.io/cran/carData/man/Duncan.html)):\n",
    "\n",
    "`name` - the name of the occupation, from the 1950 US Census\n",
    "\n",
    "`type`- type of occupation, with the following categories ``prof``,\n",
    "professional and managerial; ``wc``, white-collar; ``bc``, blue-collar. (E.g. how the\n",
    "occupation was classified in the 1950 US Census)\n",
    "\n",
    "`income` - percentage of census respondents within the occupation who\n",
    "earned 3,500 dollars or more per year (about 36,000 US dollars in 2017)\n",
    "\n",
    "`education` - percentage of census respondents within the occupation who were high school\n",
    "graduates \n",
    "\n",
    "`prestige` - percentage of respondents in the NORC survey who rated the occupation\n",
    "as “good” or better in prestige"
   ]
  },
  {
   "cell_type": "code",
   "execution_count": null,
   "id": "a809784f",
   "metadata": {},
   "outputs": [],
   "source": [
    "#- import the Duncan_Occupational_Prestige.csv file as as data frame.\n",
    "duncan_df = ...\n",
    "# Show the result\n",
    "duncan_df"
   ]
  },
  {
   "cell_type": "markdown",
   "id": "cc7c9e9d",
   "metadata": {},
   "source": [
    "In the cell below, plot `prestige` as a function of `income`:"
   ]
  },
  {
   "cell_type": "code",
   "execution_count": null,
   "id": "a056c0e3",
   "metadata": {},
   "outputs": [],
   "source": [
    "#- your scatterplot here\n",
    "...\n",
    "..."
   ]
  },
  {
   "cell_type": "markdown",
   "id": "a0d044b9",
   "metadata": {},
   "source": [
    "After inspecting your plot, please set the variable `my_Q11_answer` in the cell\n",
    "below to the number corresponding to statement you think is most true (e.g. if\n",
    "you think the answer is statement 1, set `my_Q11_answer` to equal 1):\n",
    "\n",
    "`1` - lower `income` scores appear to predict higher `prestige` scores\n",
    "\n",
    "`2` - `income` and `prestige` look to be randomly associated\n",
    "\n",
    "`3` - higher `income` scores appear to predict higher `prestige` scores\n",
    "\n",
    "`4` - all of the above are true\n",
    "\n",
    "`5` - none of the above are true"
   ]
  },
  {
   "cell_type": "code",
   "execution_count": null,
   "id": "8e45575d",
   "metadata": {},
   "outputs": [],
   "source": [
    "#- set `my_Q11_answer` to your answer\n",
    "my_Q11_answer = ..."
   ]
  },
  {
   "cell_type": "code",
   "execution_count": null,
   "id": "e9cc1cf2",
   "metadata": {},
   "outputs": [],
   "source": [
    "# run this cell to check your answer\n",
    "_ = ok.grade('q11')"
   ]
  },
  {
   "cell_type": "markdown",
   "id": "36ee71ac",
   "metadata": {},
   "source": [
    "## Question 12\n",
    "\n",
    "On the textbook page, we mentioned that there are a lot of different terms for the variables in regression models.\n",
    "\n",
    "Let's assume you're working with a data scientist who has a habit of using the terminology from multiple disciplines.\n",
    "\n",
    "They've asked you to fit a linear regression model to the Duncan data. Please run the cell below, to generate the instruction from your colleague regarding which variables you should include in your model:\n",
    "\n",
    "*Note*: the terminology used is correct, but the specific terms are random (out of the available terms), this is in order to check that you are familiar with whatever terms you might hear!"
   ]
  },
  {
   "cell_type": "code",
   "execution_count": null,
   "id": "dc50bb1d",
   "metadata": {},
   "outputs": [],
   "source": [
    "# generate your colleague's question\n",
    "jupyprint(f\"Please fit a linear regression model, use `income` as your {np.random.choice(names_1)}, and `prestige` as your {np.random.choice(names_2)}.\")"
   ]
  },
  {
   "cell_type": "markdown",
   "id": "0d8ee9b0",
   "metadata": {},
   "source": [
    "Please follow your colleague's instruction in the cell below, using the data in the `duncan_df` dataframe.\n",
    "\n",
    "The form of the model should be as follows (as there are 45 observations in `duncan_df`):\n",
    "\n",
    "$$\n",
    "\\small\n",
    "\\begin{bmatrix}\n",
    "y_{1} \\\\ y_{2} \\\\ y_{3} \\\\ y_{4} \\\\ y_{5} \\\\ y_{6} \\\\ y_{7} \\\\ y_{8} \\\\ y_{9} \\\\ y_{10} \\\\ y_{11} \\\\ y_{12} \\\\ y_{13} \\\\ y_{14} \\\\ y_{15} \\\\ y_{16} \\\\ y_{17} \\\\ y_{18} \\\\ y_{19} \\\\ y_{20} \\\\ y_{21} \\\\ y_{22} \\\\ y_{23} \\\\ y_{24} \\\\ y_{25} \\\\ y_{26} \\\\ y_{27} \\\\ y_{28} \\\\ y_{29} \\\\ y_{30} \\\\ y_{31} \\\\ y_{32} \\\\ y_{33} \\\\ y_{34} \\\\ y_{35} \\\\ y_{36} \\\\ y_{37} \\\\ y_{38} \\\\ y_{39} \\\\ y_{40} \\\\ y_{41} \\\\ y_{42} \\\\ y_{43} \\\\ y_{44} \\\\ y_{45} \\\\\n",
    "\\end{bmatrix}\n",
    "= b \\cdot\n",
    "\\begin{bmatrix} x_{1} \\\\ x_{2} \\\\ x_{3} \\\\ x_{4} \\\\ x_{5} \\\\ x_{6} \\\\ x_{7} \\\\ x_{8} \\\\ x_{9} \\\\ x_{10} \\\\ x_{11} \\\\ x_{12} \\\\ x_{13} \\\\ x_{14} \\\\ x_{15} \\\\ x_{16} \\\\ x_{17} \\\\ x_{18} \\\\ x_{19} \\\\ x_{20} \\\\ x_{21} \\\\ x_{22} \\\\ x_{23} \\\\ x_{24} \\\\ x_{25} \\\\ x_{26} \\\\ x_{27} \\\\ x_{28} \\\\ x_{29} \\\\ x_{30} \\\\ x_{31} \\\\ x_{32} \\\\ x_{33} \\\\ x_{34} \\\\ x_{35} \\\\ x_{36} \\\\ x_{37} \\\\ x_{38} \\\\ x_{39} \\\\ x_{40} \\\\ x_{41} \\\\ x_{42} \\\\ x_{43} \\\\ x_{44} \\\\ x_{45} \\\\\n",
    "\\end{bmatrix}\n",
    "+ c + \\begin{bmatrix} \\varepsilon_{1} \\\\ \\varepsilon_{2} \\\\ \\varepsilon_{3} \\\\ \\varepsilon_{4} \\\\ \\varepsilon_{5} \\\\ \\varepsilon_{6} \\\\ \\varepsilon_{7} \\\\ \\varepsilon_{8} \\\\ \\varepsilon_{9} \\\\ \\varepsilon_{10} \\\\ \\varepsilon_{11} \\\\ \\varepsilon_{12} \\\\ \\varepsilon_{13} \\\\ \\varepsilon_{14} \\\\ \\varepsilon_{15} \\\\ \\varepsilon_{16} \\\\ \\varepsilon_{17} \\\\ \\varepsilon_{18} \\\\ \\varepsilon_{19} \\\\ \\varepsilon_{20} \\\\ \\varepsilon_{21} \\\\ \\varepsilon_{22} \\\\ \\varepsilon_{23} \\\\ \\varepsilon_{24} \\\\ \\varepsilon_{25} \\\\ \\varepsilon_{26} \\\\ \\varepsilon_{27} \\\\ \\varepsilon_{28} \\\\ \\varepsilon_{29} \\\\ \\varepsilon_{30} \\\\ \\varepsilon_{31} \\\\ \\varepsilon_{32} \\\\ \\varepsilon_{33} \\\\ \\varepsilon_{34} \\\\ \\varepsilon_{35} \\\\ \\varepsilon_{36} \\\\ \\varepsilon_{37} \\\\ \\varepsilon_{38} \\\\ \\varepsilon_{39} \\\\ \\varepsilon_{40} \\\\ \\varepsilon_{41} \\\\ \\varepsilon_{42} \\\\ \\varepsilon_{43} \\\\ \\varepsilon_{44} \\\\ \\varepsilon_{45} \\\\ \\end{bmatrix}\n",
    "$$\n",
    "\n",
    "After performing the regression, you should have variables stored with the following names: `y_for_Q12`, `x_for_Q12`, `b_for_Q12`, `c_for_Q12`, `errors_for_Q12`, corresponding to the equation in the cell above, and to your colleague's question (so $b$ should be stored as a variable called `b_for_Q12`, where $b$ and `b_for_Q12` are the slope from a linear regression using the variables that your colleague asked you to use, and so on):"
   ]
  },
  {
   "cell_type": "code",
   "execution_count": null,
   "id": "8a935540",
   "metadata": {},
   "outputs": [],
   "source": [
    "#- define your y vector here\n",
    "y_for_Q12 = ...\n",
    "#- define your x vector here\n",
    "x_for_Q12 = ...\n",
    "#- perform your linear regression here\n",
    "duncan_mod_1 = ...\n",
    "#- store your \"b\" variable here\n",
    "b_for_Q12 = ...\n",
    "#- store your \"c\" variable here\n",
    "c_for_Q12 = ...\n",
    "#- store your \"errors\" variable here\n",
    "errors_for_Q12 = ..."
   ]
  },
  {
   "cell_type": "code",
   "execution_count": null,
   "id": "73406fba",
   "metadata": {},
   "outputs": [],
   "source": [
    "# run this cell to check your answer\n",
    "_ = ok.grade('q12')"
   ]
  },
  {
   "cell_type": "markdown",
   "id": "247effb2",
   "metadata": {},
   "source": [
    "## Question 13\n",
    "\n",
    "The cell below contains the data for a hypothetical occupations which are not present in the Duncan data, and for which the `prestige` scores are missing:"
   ]
  },
  {
   "cell_type": "code",
   "execution_count": null,
   "id": "e559da9e",
   "metadata": {},
   "outputs": [],
   "source": [
    "# some other occupations\n",
    "other_occupations = pd.DataFrame({'names': [\"Procrastination Technician\", \"Snackologist\", \"Meme Historian\",\n",
    "                                            \"Nap Explorer\"],\n",
    "                                  'income': [18, 25, 23, 17]})\n",
    "\n",
    "# show the dataframe\n",
    "other_occupations"
   ]
  },
  {
   "cell_type": "markdown",
   "id": "655925cb",
   "metadata": {},
   "source": [
    "Using the slope and intercept which you calculated in the last question. Please calculate what we would predict the `pestige` scores of these occupations to be, based on their `income` scores. Save the predictions in a variable called `other_occupations_predicted_prestige`.\n",
    "\n",
    "*Hint:* you can do this using the same method by which you would generate the *fitted values* for observations that are in the Duncan dataset."
   ]
  },
  {
   "cell_type": "code",
   "execution_count": null,
   "id": "4d6b15b4",
   "metadata": {},
   "outputs": [],
   "source": [
    "#- generate your predicted values here\n",
    "other_occupations_predicted_prestige = ..."
   ]
  },
  {
   "cell_type": "code",
   "execution_count": null,
   "id": "f5733d7e",
   "metadata": {},
   "outputs": [],
   "source": [
    "# run this cell to check your answer\n",
    "_ = ok.grade('q13')"
   ]
  },
  {
   "cell_type": "markdown",
   "id": "28d09bff",
   "metadata": {},
   "source": [
    "## Question 14\n",
    "\n",
    "Your colleague would like to fit a linear regression model to just the blue collar jobs in the Duncan dataset (these are the jobs for which `'type' == 'bc'`), to see if the parameter estimates are similar to those for a regression using the same predictor variable and outcome variable.\n",
    "\n",
    "First, create a dataframe called `blue_collar` which contains just the blue collar jobs:"
   ]
  },
  {
   "cell_type": "code",
   "execution_count": null,
   "id": "510aae2c",
   "metadata": {},
   "outputs": [],
   "source": [
    "#- get just the blue collar jobs in their own dataframe\n",
    "blue_collar = ...\n",
    "# Show the result\n",
    "blue_collar"
   ]
  },
  {
   "cell_type": "markdown",
   "id": "95c4b07f",
   "metadata": {},
   "source": [
    "Run the cell below to show the linear regression model which you should fit. \n",
    "\n",
    "The equation shows the actual values within each vector - you should work out from the values which columns of the `blue_collar` dataframe you need to use as each vector in your model:"
   ]
  },
  {
   "cell_type": "code",
   "execution_count": null,
   "id": "4b61c7a5",
   "metadata": {},
   "outputs": [],
   "source": [
    "# run this cell to show the model you should fit\n",
    "jupyprint(f\"${arraytex(np.atleast_2d(tester_3.values).T)} = \"\n",
    "          f\"b * {arraytex(np.atleast_2d(tester_4.values).T)} + \"\n",
    "          f\"c + $\" + \"$ \\\\begin{bmatrix} \\\\varepsilon_{1} \\\\\\\\ \\\\varepsilon_{2} \\\\\\\\ \\\\varepsilon_{3} \\\\\\\\ \\\\varepsilon_{4} \\\\\\\\ \\\\varepsilon_{5} \\\\\\\\ \\\\varepsilon_{6} \\\\\\\\ \\\\varepsilon_{7} \\\\\\\\ \\\\varepsilon_{8} \\\\\\\\ \\\\varepsilon_{9} \\\\\\\\ \\\\varepsilon_{10} \\\\\\\\ \\\\varepsilon_{11} \\\\\\\\ \\\\varepsilon_{12} \\\\\\\\ \\\\varepsilon_{13} \\\\\\\\ \\\\varepsilon_{14} \\\\\\\\ \\\\varepsilon_{15} \\\\\\\\ \\\\varepsilon_{16} \\\\\\\\ \\\\varepsilon_{17} \\\\\\\\ \\\\varepsilon_{18} \\\\\\\\ \\\\varepsilon_{19} \\\\\\\\ \\\\varepsilon_{20} \\\\\\\\ \\\\varepsilon_{21} \\\\\\\\ \\\\end{bmatrix}$\")"
   ]
  },
  {
   "cell_type": "markdown",
   "id": "8f67628b",
   "metadata": {},
   "source": [
    "Please peform the linear regression that your colleague has requested. You should use variables called `y_for_Q14`, `x_for_Q14`, `b_for_Q14`, `c_for_Q14`, `errors_for_Q14`, corresponding to the equation in the cell above, and to your colleague's question (so $b$ should be stored as a variable called `b_for_Q14`, where $b$ and `b_for_Q14` are the slope from a linear regression using the variables that your colleague asked you to use, and so on):"
   ]
  },
  {
   "cell_type": "code",
   "execution_count": null,
   "id": "1946518d",
   "metadata": {},
   "outputs": [],
   "source": [
    "#- define your y vector here\n",
    "y_for_Q14 = ...\n",
    "#- define your x vector here\n",
    "x_for_Q14 = ...\n",
    "#- perform your linear regression here\n",
    "duncan_mod_2 = ...\n",
    "#- store your \"b\" variable here\n",
    "b_for_Q14 = ...\n",
    "#- store your \"c\" variable here\n",
    "c_for_Q14 = ...\n",
    "#- store your \"errors\" variable here\n",
    "errors_for_Q14 = ..."
   ]
  },
  {
   "cell_type": "code",
   "execution_count": null,
   "id": "d2a5848f",
   "metadata": {},
   "outputs": [],
   "source": [
    "# run this cell to check your answer\n",
    "_ = ok.grade('q14')"
   ]
  },
  {
   "cell_type": "markdown",
   "id": "d501e99e",
   "metadata": {},
   "source": [
    "## Question 15\n",
    "\n",
    "Your variable `b_for_Q12` contains the slope ($b$) from a linear regression pedicting `prestige` from `income` using the full Duncan dataset.\n",
    "\n",
    "Your variable `b_for_Q14` contains the slope ($b$) from a linear regression pedicting `prestige` from `income` using only the data from the blue collar (`bc`) jobs within the Duncan dataset.\n",
    "\n",
    "Run the cells below to view each slope."
   ]
  },
  {
   "cell_type": "code",
   "execution_count": null,
   "id": "dc94dcb3",
   "metadata": {},
   "outputs": [],
   "source": [
    "# slope from a linear regression pedicting `prestige` from `income` using\n",
    "# the full Duncan dataset\n",
    "b_for_Q12"
   ]
  },
  {
   "cell_type": "code",
   "execution_count": null,
   "id": "6702767a",
   "metadata": {},
   "outputs": [],
   "source": [
    "# from a linear regression pedicting `prestige` from `income` using only\n",
    "# the data from the blue collar (`bc`) jobs\n",
    "b_for_Q14"
   ]
  },
  {
   "cell_type": "markdown",
   "id": "1bdf1892",
   "metadata": {},
   "source": [
    "In the cell below, write a short paragraph stating what you think the meaning of the difference between these slopes is."
   ]
  },
  {
   "cell_type": "markdown",
   "id": "217df9da",
   "metadata": {},
   "source": [
    "<i> Double click this text to write you answer here. </i>"
   ]
  },
  {
   "cell_type": "code",
   "execution_count": null,
   "id": "b8022c67",
   "metadata": {},
   "outputs": [],
   "source": [
    "# For your convenience, you can run this cell to run all the tests at once!\n",
    "import os\n",
    "_ = [ok.grade(q[:-3]) for q in os.listdir(\"tests\") if q.startswith('q')]"
   ]
  }
 ],
 "metadata": {
  "jupytext": {
   "notebook_metadata_filter": "all,-language_info",
   "split_at_heading": true,
   "text_representation": {
    "extension": ".Rmd",
    "format_name": "rmarkdown",
    "format_version": "1.2",
    "jupytext_version": "1.15.2"
   }
  },
  "kernelspec": {
   "display_name": "Python 3 (ipykernel)",
   "language": "python",
   "name": "python3"
  }
 },
 "nbformat": 4,
 "nbformat_minor": 5
}
